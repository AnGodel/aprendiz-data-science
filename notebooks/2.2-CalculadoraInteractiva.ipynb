{
 "cells": [
  {
   "cell_type": "markdown",
   "metadata": {},
   "source": [
    "# Calculadora Interactiva"
   ]
  },
  {
   "cell_type": "code",
   "execution_count": 1,
   "metadata": {},
   "outputs": [
    {
     "name": "stdout",
     "output_type": "stream",
     "text": [
      "3\n",
      "3\n"
     ]
    }
   ],
   "source": [
    "operacion = input()\n",
    "print(operacion)"
   ]
  },
  {
   "cell_type": "code",
   "execution_count": 2,
   "metadata": {},
   "outputs": [
    {
     "name": "stdout",
     "output_type": "stream",
     "text": [
      "Primer Operando: 3\n",
      "Primer Operando:  3.0 es de tipo  <class 'float'>\n"
     ]
    }
   ],
   "source": [
    "# Lectura del primer operando (a)\n",
    "a = None\n",
    "while (a == None):\n",
    "    s = input(\"Primer Operando: \")\n",
    "    try:\n",
    "        a = float(s)\n",
    "    except:\n",
    "        a = None\n",
    "print(\"Primer Operando: \", a, \"es de tipo \", type(a))"
   ]
  },
  {
   "cell_type": "code",
   "execution_count": 3,
   "metadata": {
    "collapsed": true
   },
   "outputs": [],
   "source": [
    "### Definimos una función para lectura de operandos\n",
    "def leer_operando(mensaje):\n",
    "    x = None\n",
    "    while (x == None):\n",
    "        s = input(mensaje)\n",
    "        try:\n",
    "            x = float(s)\n",
    "        except:\n",
    "            x = None\n",
    "    return(x)"
   ]
  },
  {
   "cell_type": "code",
   "execution_count": 5,
   "metadata": {},
   "outputs": [
    {
     "name": "stdout",
     "output_type": "stream",
     "text": [
      "Introduzca el primer operando: +\n",
      "Introduzca el primer operando: +\n",
      "Introduzca el primer operando: 3\n",
      "El primer operando es:  3.0\n"
     ]
    }
   ],
   "source": [
    "# Probamos la función\n",
    "a = leer_operando(\"Introduzca el primer operando: \")\n",
    "print(\"El primer operando es: \", a)"
   ]
  },
  {
   "cell_type": "code",
   "execution_count": 6,
   "metadata": {
    "collapsed": true
   },
   "outputs": [],
   "source": [
    "# Definimos una función para la lectura de la operación aritmética\n",
    "def leer_operacion(mensaje):\n",
    "    op = None\n",
    "    while (op == None):\n",
    "        s = input(\"Operación Aritmética: \")\n",
    "        if (s in ['+', '-', '*', '/']):\n",
    "            op = s\n",
    "        else:\n",
    "            op = None\n",
    "    return(op)"
   ]
  },
  {
   "cell_type": "code",
   "execution_count": 7,
   "metadata": {},
   "outputs": [
    {
     "name": "stdout",
     "output_type": "stream",
     "text": [
      "Operación Aritmética: d\n",
      "Operación Aritmética: +\n",
      "La operación es: +\n"
     ]
    }
   ],
   "source": [
    "# Probamos la función\n",
    "op = leer_operacion(\"Introduzca la operación: \")\n",
    "print(\"La operación es:\", op)"
   ]
  },
  {
   "cell_type": "code",
   "execution_count": 8,
   "metadata": {},
   "outputs": [
    {
     "name": "stdout",
     "output_type": "stream",
     "text": [
      "Bienvenido a mi calculadora interactiva\n",
      "Introduzca el primer operando: 3\n",
      "Operación Aritmética: +\n",
      "Introduzca el segundo operando: 5\n",
      "Cálcular:  3.0 + 5.0\n",
      "Resultado:  8.0\n"
     ]
    }
   ],
   "source": [
    "# Bienvenido a mi calculadora interactiva\n",
    "print(\"Bienvenido a mi calculadora interactiva\")\n",
    "\n",
    "# Lectura del primer operando\n",
    "a = leer_operando(\"Introduzca el primer operando: \")\n",
    "op = leer_operacion(\"Introduzca la operación: \")\n",
    "b = leer_operando(\"Introduzca el segundo operando: \")\n",
    "\n",
    "# Impresión de la operación\n",
    "print(\"Cálcular: \", a, op, b)\n",
    "\n",
    "# Definir Operaciones\n",
    "def suma(a, b):\n",
    "    return(a+b)\n",
    "\n",
    "def resta(a, b):\n",
    "    return(a-b)\n",
    "\n",
    "def multiplica(a, b):\n",
    "    return(a*b)\n",
    "\n",
    "def divide(a, b):\n",
    "    return(a/b)\n",
    "\n",
    "# Usar un Diccionario para mapear Funciones\n",
    "def calcular(a, op, b):\n",
    "    switcher = {\n",
    "        '+': suma,\n",
    "        '-': resta,\n",
    "        '*': multiplica,\n",
    "        '/': divide\n",
    "    }\n",
    "    func = switcher.get(op)\n",
    "    return func(a, b)\n",
    "\n",
    "# Realizar cálculo\n",
    "res = calcular(a, op, b)\n",
    "print(\"Resultado: \", res)\n"
   ]
  },
  {
   "cell_type": "code",
   "execution_count": null,
   "metadata": {
    "collapsed": true
   },
   "outputs": [],
   "source": []
  }
 ],
 "metadata": {
  "kernelspec": {
   "display_name": "Python 3",
   "language": "python",
   "name": "python3"
  },
  "language_info": {
   "codemirror_mode": {
    "name": "ipython",
    "version": 3
   },
   "file_extension": ".py",
   "mimetype": "text/x-python",
   "name": "python",
   "nbconvert_exporter": "python",
   "pygments_lexer": "ipython3",
   "version": "3.6.3"
  }
 },
 "nbformat": 4,
 "nbformat_minor": 2
}
