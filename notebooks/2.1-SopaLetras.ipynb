{
 "cells": [
  {
   "cell_type": "markdown",
   "metadata": {},
   "source": [
    "## Strings\n",
    "Los strings son cadenas de texto indexadas comenzando en ***0***\n",
    "\n",
    "Podemos extraer una parte de una cadena usando la sintaxis ***[desde:hasta]***\n",
    "\n",
    "Podemos añadir el parámetro paso a la extracción ***[desde:hasta:paso]***\n",
    "\n",
    "Podemos concatenar strings utilizando el operador de suma: ***+***"
   ]
  },
  {
   "cell_type": "markdown",
   "metadata": {},
   "source": [
    "# Sopa de letras"
   ]
  },
  {
   "cell_type": "markdown",
   "metadata": {},
   "source": [
    "<center>\n",
    "<img src=\"./imagenes/SopaDeLetras-Frutas.gif\" width=\"500\">\n",
    "</center>"
   ]
  },
  {
   "cell_type": "code",
   "execution_count": 6,
   "metadata": {
    "collapsed": true
   },
   "outputs": [],
   "source": [
    "# Definición de la estructura de datos\n",
    "A = \"pfneukñaqs\"\n",
    "B = \"readqviñmy\"\n",
    "C = \"kortjgaiei\"\n",
    "D = \"oraapjlslp\"\n",
    "E = \"pnniurimól\"\n",
    "F = \"oajmanzana\"\n",
    "G = \"gsaasepbec\"\n",
    "H = \"nenonatálp\"\n",
    "I = \"arokiwihje\"\n",
    "J = \"mfpkmzdehñ\""
   ]
  },
  {
   "cell_type": "code",
   "execution_count": 7,
   "metadata": {},
   "outputs": [
    {
     "name": "stdout",
     "output_type": "stream",
     "text": [
      "pfneukñaqs\n",
      "readqviñmy\n",
      "kortjgaiei\n",
      "oraapjlslp\n",
      "pnniurimól\n",
      "oajmanzana\n",
      "gsaasepbec\n",
      "nenonatálp\n",
      "arokiwihje\n",
      "mfpkmzdehñ\n"
     ]
    }
   ],
   "source": [
    "# Imprimir la sopa de letras\n",
    "print(A)\n",
    "print(B)\n",
    "print(C)\n",
    "print(D)\n",
    "print(E)\n",
    "print(F)\n",
    "print(G)\n",
    "print(H)\n",
    "print(I)\n",
    "print(J)"
   ]
  },
  {
   "cell_type": "code",
   "execution_count": 8,
   "metadata": {},
   "outputs": [
    {
     "name": "stdout",
     "output_type": "stream",
     "text": [
      "manzana\n"
     ]
    }
   ],
   "source": [
    "# Buscar y obtener \"manzana\"\n",
    "manzana = F[3:]\n",
    "print(manzana)"
   ]
  },
  {
   "cell_type": "code",
   "execution_count": 9,
   "metadata": {},
   "outputs": [
    {
     "name": "stdout",
     "output_type": "stream",
     "text": [
      "pera\n"
     ]
    }
   ],
   "source": [
    "# Buscar y obtener \"pera\"\n",
    "pera = A[0] + B[1] + C[2] + D[3]\n",
    "print(pera)"
   ]
  },
  {
   "cell_type": "code",
   "execution_count": 10,
   "metadata": {},
   "outputs": [
    {
     "name": "stdout",
     "output_type": "stream",
     "text": [
      "naranja\n"
     ]
    }
   ],
   "source": [
    "# Buscar y obtener \"naranja\"\n",
    "naranja = A[2] + B[2] + C[2] + D[2] + E[2] + F[2] + G[2]\n",
    "print(naranja)"
   ]
  },
  {
   "cell_type": "code",
   "execution_count": 11,
   "metadata": {},
   "outputs": [
    {
     "name": "stdout",
     "output_type": "stream",
     "text": [
      "uvas\n"
     ]
    }
   ],
   "source": [
    "# Buscar y obtener \"uvas\"\n",
    "uvas = A[4] + B[5] + C[6] + D[7]\n",
    "print(uvas)"
   ]
  },
  {
   "cell_type": "code",
   "execution_count": 12,
   "metadata": {},
   "outputs": [
    {
     "name": "stdout",
     "output_type": "stream",
     "text": [
      "melón\n"
     ]
    }
   ],
   "source": [
    "# Buscar y obtener \"melón\"\n",
    "melon = B[8] + C[8] + D[8] + E[8] + F[8]\n",
    "print(melon)"
   ]
  },
  {
   "cell_type": "code",
   "execution_count": 13,
   "metadata": {},
   "outputs": [
    {
     "name": "stdout",
     "output_type": "stream",
     "text": [
      "mango\n",
      "ognam\n",
      "mango\n"
     ]
    }
   ],
   "source": [
    "# Buscar y obtener \"mango\"\n",
    "mango = J[0] + I[0] +  H[0] + G[0] + F[0]\n",
    "print(mango)\n",
    "# Otra opción más fácil\n",
    "mango = F[0] + G[0] + H[0] + I[0] + J[0]\n",
    "print(mango)\n",
    "# Invertir el string\n",
    "mango = mango[::-1]\n",
    "print(mango)"
   ]
  },
  {
   "cell_type": "code",
   "execution_count": 14,
   "metadata": {},
   "outputs": [
    {
     "name": "stdout",
     "output_type": "stream",
     "text": [
      "fresa\n",
      "aserf\n",
      "fresa\n"
     ]
    }
   ],
   "source": [
    "# Buscar y obtener \"fresa\"\n",
    "fresa = J[1] + I[1] +  H[1] + G[1] + F[1]\n",
    "print(fresa)\n",
    "# Otra opción más fácil\n",
    "fresa = F[1] + G[1] +  H[1] + I[1] + J[1]\n",
    "print(fresa)\n",
    "# Invertir el string\n",
    "fresa = fresa[::-1]\n",
    "print(fresa)"
   ]
  },
  {
   "cell_type": "code",
   "execution_count": 15,
   "metadata": {},
   "outputs": [
    {
     "name": "stdout",
     "output_type": "stream",
     "text": [
      "onatálp\n",
      "plátano\n"
     ]
    }
   ],
   "source": [
    "# Buscar y obtener \"plátano\"\n",
    "platano = H[3:]\n",
    "print(platano)\n",
    "# Invertir el string\n",
    "platano = platano[::-1]\n",
    "print(platano)"
   ]
  },
  {
   "cell_type": "code",
   "execution_count": null,
   "metadata": {
    "collapsed": true
   },
   "outputs": [],
   "source": []
  }
 ],
 "metadata": {
  "kernelspec": {
   "display_name": "Python 3",
   "language": "python",
   "name": "python3"
  },
  "language_info": {
   "codemirror_mode": {
    "name": "ipython",
    "version": 3
   },
   "file_extension": ".py",
   "mimetype": "text/x-python",
   "name": "python",
   "nbconvert_exporter": "python",
   "pygments_lexer": "ipython3",
   "version": "3.6.3"
  }
 },
 "nbformat": 4,
 "nbformat_minor": 2
}
